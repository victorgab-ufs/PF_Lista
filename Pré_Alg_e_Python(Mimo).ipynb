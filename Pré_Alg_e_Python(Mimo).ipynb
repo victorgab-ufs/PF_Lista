{
  "cells": [
    {
      "cell_type": "markdown",
      "metadata": {
        "id": "view-in-github",
        "colab_type": "text"
      },
      "source": [
        "<a href=\"https://colab.research.google.com/github/victorgab-ufs/PF_Lista/blob/main/Pr%C3%A9_Alg_e_Python(Mimo).ipynb\" target=\"_parent\"><img src=\"https://colab.research.google.com/assets/colab-badge.svg\" alt=\"Open In Colab\"/></a>"
      ]
    },
    {
      "cell_type": "code",
      "execution_count": null,
      "metadata": {
        "id": "e19fL47X8ckk"
      },
      "outputs": [],
      "source": [
        "#-------------------------------------------------\n",
        "from IPython.display import clear_output #limpa terminais (clear_output(wait = True)) #LIMPAR SAÍDA\n",
        "import random #NÚMERO ALEATÓRIO (variável = random.randrange(ínicio, fim))\n",
        "\n",
        "#MUDA NO VS CODE (BIBLIOTECA)\n",
        "\n",
        "# para anotações/comentários\n",
        "#snake_case (variáveis com mais de 1 palavra)\n",
        "#strings (\"\") / termos\n",
        "#variáveis -> Letra ou underscore (Não pode { ( + - * / \\ n  ; , ? $)\n",
        "#True e False não são string nem número (são booleanos)\n",
        "# int(True) = 1 / int(False) = 0\n",
        "#Formas de String: 'x' / '''x'''/ \"x\" / \"\"\"x\"\"\"\n",
        "# IF -> condição / ELIF -> Condição tirando if / ELSE -> Exceção às demais\n",
        "\n",
        "\n",
        "#-------------------------------------------------\n",
        "\n",
        "# + soma (2+1=3)\n",
        "# - subtrai (2-1=1)\n",
        "# * multiplica (3*2=6)\n",
        "# ** potencializa (3**2=9)\n",
        "# % resto (4%3=1)\n",
        "# / divisão (6/2=3)\n",
        "# // valor inteiro para baixo (7//2=3)\n",
        "# Texto dentro do input() cria título\n",
        "\n",
        "#-------------------------------------------------\n",
        "\n",
        "# igualdade ==\n",
        "# desigualdade !=\n",
        "# maior que >\n",
        "# menor que <\n",
        "# maior ou igual >=\n",
        "# menor ou igual <="
      ]
    },
    {
      "cell_type": "code",
      "source": [],
      "metadata": {
        "id": "BgDFRDamcwOJ"
      },
      "execution_count": null,
      "outputs": []
    },
    {
      "cell_type": "code",
      "execution_count": null,
      "metadata": {
        "id": "iWMojW2Zndc8",
        "colab": {
          "base_uri": "https://localhost:8080/"
        },
        "outputId": "c0e175fb-dbea-4621-e02d-03d77ef2b5d5"
      },
      "outputs": [
        {
          "output_type": "stream",
          "name": "stdout",
          "text": [
            "Olá Mundo!\n",
            "EC UFS 2025.1\n",
            "Ele é nosso \"amigo\"\n",
            "\n",
            "Texto separado\n",
            "Na mesma linha\n",
            "\n",
            "WWW\n"
          ]
        }
      ],
      "source": [
        "# print -> apresenta valores\n",
        "# ; para pular linha ou linhas diferentes\n",
        "# Diferentes aspas para usá-las no texto\n",
        "# '\\n' -> Quebra de linha\n",
        "\n",
        "print('Olá Mundo!'); print('EC UFS 2025.1')\n",
        "print('Ele é nosso \"amigo\"')\n",
        "print('\\nTexto separado')\n",
        "\n",
        "print('Na mesma', end=\" \")\n",
        "print('linha\\n')\n",
        "\n",
        "print('W'*3)"
      ]
    },
    {
      "cell_type": "markdown",
      "metadata": {
        "id": "kRw76nUwte18"
      },
      "source": []
    },
    {
      "cell_type": "code",
      "execution_count": null,
      "metadata": {
        "id": "_oAweCpIltrY"
      },
      "outputs": [],
      "source": [
        "#type -> tipo de dado\n",
        "\n",
        "print(type(\"Hello World!\"))\n",
        "print(type(5))\n",
        "print(type(3.2))\n",
        "print(type(True))"
      ]
    },
    {
      "cell_type": "code",
      "source": [
        "#len para tamanho de strings\n",
        "\n",
        "palavra = 'aeiou'\n",
        "len(palavra)"
      ],
      "metadata": {
        "colab": {
          "base_uri": "https://localhost:8080/"
        },
        "id": "NdYf4b4uPqtF",
        "outputId": "40c3399a-5f55-455c-e37c-c7afa81dbf78"
      },
      "execution_count": null,
      "outputs": [
        {
          "output_type": "execute_result",
          "data": {
            "text/plain": [
              "5"
            ]
          },
          "metadata": {},
          "execution_count": 1
        }
      ]
    },
    {
      "cell_type": "code",
      "execution_count": null,
      "metadata": {
        "id": "Rj4kcwO8pmi2"
      },
      "outputs": [],
      "source": [
        "# (.) para decimais e (,) para diferentes/separação\n",
        "\n",
        "print(42000)\n",
        "print(42.000)\n",
        "print(42,000)"
      ]
    },
    {
      "cell_type": "code",
      "execution_count": null,
      "metadata": {
        "id": "AcmCdQxktofD"
      },
      "outputs": [],
      "source": [
        "# Pode somar strings\n",
        "\n",
        "print('1'+'2')\n",
        "print('peixe-'+'espada')"
      ]
    },
    {
      "cell_type": "code",
      "execution_count": null,
      "metadata": {
        "id": "2k-eBF_ciJwg"
      },
      "outputs": [],
      "source": [
        "# not antes torna o oposto\n",
        "\n",
        "print(not True)\n",
        "print(not False)"
      ]
    },
    {
      "cell_type": "code",
      "execution_count": null,
      "metadata": {
        "id": "SXNzdb-KpJ1a"
      },
      "outputs": [],
      "source": [
        "#input() para que o usuário digite\n",
        "#int()/str()/float()/bool() para conversão\n",
        "# %d (integer) / %s (string) / %f (float)\n",
        "#TESTE PARA IF (if váriavel =,<,> termo ou número:)\n",
        "\n",
        "#---------------------------------\n",
        "\n",
        "#CALCULADORA DE MÉDIA\n",
        "\n",
        "print(\"Calculadora de média\\n\")\n",
        "bim1 = float(input(\"Nota do 1º Bimestre: \"))\n",
        "bim2 = float(input(\"Nota do 2º Bimestre: \"))\n",
        "bim3 = float(input(\"Nota do 3º Bimestre: \"))\n",
        "bim4 = float(input(\"Nota do 4º Bimestre: \"))\n",
        "final = ((bim1+bim2+bim3+bim4)/4)\n",
        "print('\\nSua média anual é: %.1f\\n' %(final))\n",
        "if final >= 6.0:\n",
        "  print('APROVADO')\n",
        "if final < 6.0:\n",
        "  print('REPROVADO')\n",
        "points = 12 - float('%.1f' %(final))\n",
        "if final < 6.0:\n",
        "  print(f'{points} ponto(s) necessários para recuperação. ')\n",
        "if final <= 1.9:\n",
        "  print('(Sem possibilidade de recuperação)')"
      ]
    },
    {
      "cell_type": "code",
      "source": [
        "# True -> 1 ou não vazio\n",
        "# False -> 0 ou vazio\n",
        "\n",
        "print(bool(''))\n",
        "print(bool(0))\n",
        "print(bool('ae'))\n",
        "print(bool(1))"
      ],
      "metadata": {
        "id": "GoXm49ubJnuR"
      },
      "execution_count": null,
      "outputs": []
    },
    {
      "cell_type": "code",
      "execution_count": null,
      "metadata": {
        "id": "Ntummz_W0qzR"
      },
      "outputs": [],
      "source": [
        "# \"6\"+\"new messages\" e \"6 new messages\" dariam errado\n",
        "#f\"{} formata para encaixar números ou variáveis (string formatado)\n",
        "\n",
        "print(f\"{6} new messages\")"
      ]
    },
    {
      "cell_type": "code",
      "execution_count": null,
      "metadata": {
        "id": "aIR9BqcG8mak"
      },
      "outputs": [],
      "source": [
        "# %.Nf formata decimais (N é o número de casas decimais)\n",
        "\n",
        "print(\"Arredondando decimais \\n\")\n",
        "número = float(input('Número: '))\n",
        "print(\"O resultado é: %.2f\" %(número))"
      ]
    },
    {
      "cell_type": "code",
      "source": [
        "#CONVERSOR DE TEMPO (s --> h)\n",
        "\n",
        "print('Converta Segundos para Horas \\n')\n",
        "time_seconds = int(input('Segundos: '))\n",
        "hours = time_seconds//3600\n",
        "minutes = int((time_seconds-(3600*hours))/60)\n",
        "seconds = int((time_seconds%60))\n",
        "print(f'\\nTempo Resultante: {hours} hora(s), {minutes} minuto(s) e {seconds} segundo(s).')"
      ],
      "metadata": {
        "id": "ziXZdSa4XLEu",
        "colab": {
          "base_uri": "https://localhost:8080/"
        },
        "outputId": "6bc09a90-178f-4630-a7a6-cbbc08bfe346"
      },
      "execution_count": null,
      "outputs": [
        {
          "output_type": "stream",
          "name": "stdout",
          "text": [
            "Converta Segundos para Horas \n",
            "\n",
            "Segundos: 1961\n",
            "\n",
            "Tempo Resultante: 0 hora(s), 32 minuto(s) e 41 segundo(s).\n"
          ]
        }
      ]
    },
    {
      "cell_type": "code",
      "source": [
        "#Juros Compostos (+Arredondamento)\n",
        "\n",
        "print(\"Juros Compostos \\n\")\n",
        "capital = float(input(\"Capital(R$): \"))\n",
        "taxa = float(input(\"Taxa anual(%): \"))\n",
        "tempo = int(input(\"Período(anos): \"))\n",
        "Montante = capital*(((1+(taxa/100))**tempo))\n",
        "print(\"\\nMontante: %.2f\" %(Montante))"
      ],
      "metadata": {
        "id": "fiRqi_pdKbmG"
      },
      "execution_count": null,
      "outputs": []
    },
    {
      "cell_type": "code",
      "source": [
        "# Mais usos do f-string\n",
        "\n",
        "name = input('Seu Nome: ')\n",
        "city = input('Sua Cidade: ')\n",
        "print(f'\\nOlá, {name} de {city}')\n"
      ],
      "metadata": {
        "id": "e3j6sdl1CSVK"
      },
      "execution_count": null,
      "outputs": []
    },
    {
      "cell_type": "code",
      "source": [
        "# IF FALSE/TRUE\n",
        "\n",
        "if False:\n",
        "  print('Texto oculto')\n",
        "if True:\n",
        "  print('Texto Aparente')\n",
        "\n",
        "weather = \"rainy\"\n",
        "color = \"yellow\"\n",
        "\n",
        "if weather == \"rainy\":\n",
        "  color = \"blue\"\n",
        "print(color)"
      ],
      "metadata": {
        "id": "GruR1BPBh6Wy"
      },
      "execution_count": null,
      "outputs": []
    },
    {
      "cell_type": "code",
      "source": [
        "#May-Li Questão 3\n",
        "\n",
        "# Salário Bruto -> Salário Líquido (-20%) -> +2% do Bruto por filho\n",
        "\n",
        "sal = float(input(\"Seu salário bruto: \"))\n",
        "filho = int(input(\"Quantidade de filhos: \"))\n",
        "liq1 = (sal*0.8)\n",
        "liq2 = (sal*0.02)*(filho)\n",
        "if filho == 0:\n",
        "  print(f'Seu salário líquido é R$ {liq1}')\n",
        "if filho > 0:\n",
        "  print(f'Seu salário líquido é: R$ {liq2+liq1}')"
      ],
      "metadata": {
        "id": "dEgiC82FgrA3"
      },
      "execution_count": null,
      "outputs": []
    },
    {
      "cell_type": "code",
      "source": [
        "#May-Li Questão 4\n",
        "\n",
        "#Verificar se um número é divisível por 3 e 5\n",
        "\n",
        "num = int(input('Seu Número: '))\n",
        "if num%3 == 0 and num%5 == 0:\n",
        "  print('\\nO número é divisível por ambos.')\n",
        "else:\n",
        "  print(\"\\nO número não é divisível por ambos.\")"
      ],
      "metadata": {
        "colab": {
          "base_uri": "https://localhost:8080/"
        },
        "id": "TkMe7OyJqoAJ",
        "outputId": "5ca73c97-2bba-4ac3-e363-8406b7590615"
      },
      "execution_count": null,
      "outputs": [
        {
          "output_type": "stream",
          "name": "stdout",
          "text": [
            "Seu Número: 50\n",
            "\n",
            "O número não é divisível por ambos.\n"
          ]
        }
      ]
    },
    {
      "cell_type": "code",
      "source": [
        "#OPERADORES LÓGICOS (AND / OR / NOT)\n",
        "\n",
        "age = int(input(\"Sua Idade: \"))\n",
        "if age >= 0 and age <18:\n",
        "  print('\\nVocê é criança')\n",
        "if age >= 18 and age < 65:\n",
        "  print(\"\\nVocê é adulto\")\n",
        "if age >= 65:\n",
        "  print('\\nVocê é idoso')"
      ],
      "metadata": {
        "colab": {
          "base_uri": "https://localhost:8080/"
        },
        "id": "Yoh9hgPdoo_w",
        "outputId": "fa2f13af-88f7-4153-bdc1-b1c0d54d5c09"
      },
      "execution_count": null,
      "outputs": [
        {
          "output_type": "stream",
          "name": "stdout",
          "text": [
            "Sua Idade: 65\n",
            "\n",
            "Você é idoso\n"
          ]
        }
      ]
    },
    {
      "cell_type": "code",
      "source": [
        "#IF/ELSE/ELIF\n",
        "\n",
        "hour = int(input('Horário: '))\n",
        "if hour < 12:\n",
        "  print('\\nBom dia!')\n",
        "elif hour < 17:\n",
        "  print('\\nBoa tarde!')\n",
        "elif hour < 21:\n",
        "  print('Boa tardezinha!')\n",
        "else:\n",
        "  print('\\nBoa Noite!')"
      ],
      "metadata": {
        "id": "Bm-wU9TNAlDP"
      },
      "execution_count": null,
      "outputs": []
    },
    {
      "cell_type": "code",
      "source": [
        "#Execução da mesma variável muitas vezes\n",
        "\n",
        "name = 'Nome da Conta: '\n",
        "name = name + \"Elton \"\n",
        "name = name + 'John'\n",
        "print(name)\n",
        "\n",
        "n = '1'\n",
        "n = n + '2'\n",
        "print(n)"
      ],
      "metadata": {
        "colab": {
          "base_uri": "https://localhost:8080/"
        },
        "id": "YQmVzuGM8V4z",
        "outputId": "573e500c-c65b-4ae0-bf75-26485d522b4f"
      },
      "execution_count": null,
      "outputs": [
        {
          "output_type": "stream",
          "name": "stdout",
          "text": [
            "Nome da Conta: Elton John\n",
            "12\n"
          ]
        }
      ]
    },
    {
      "cell_type": "code",
      "source": [
        "#Variável AUTO-ATRIBUÍDA mais rápido: (+= -=)\n",
        "\n",
        "a = 'John '\n",
        "a += 'Cena'\n",
        "print(a)\n",
        "\n",
        "b = 5\n",
        "b -= 1\n",
        "print(b)"
      ],
      "metadata": {
        "colab": {
          "base_uri": "https://localhost:8080/"
        },
        "id": "y5iW2u-o91Hm",
        "outputId": "292f64f7-3779-4e46-98ae-e7266d8d47e4"
      },
      "execution_count": null,
      "outputs": [
        {
          "output_type": "stream",
          "name": "stdout",
          "text": [
            "John Cena\n",
            "4\n"
          ]
        }
      ]
    },
    {
      "cell_type": "code",
      "source": [
        "#while para repetição (while True: -> loop infinito (...))\n",
        "\n",
        "while True:\n",
        "  print('repetindo infinitamente')\n"
      ],
      "metadata": {
        "id": "uWMwJgBm_AHH"
      },
      "execution_count": null,
      "outputs": []
    },
    {
      "cell_type": "code",
      "source": [
        "keep_going = True\n",
        "\n",
        "while keep_going == True:\n",
        "  print('and again')\n",
        "  keep_going = False"
      ],
      "metadata": {
        "colab": {
          "base_uri": "https://localhost:8080/"
        },
        "id": "Nb4nEmFHAQ9B",
        "outputId": "aa4c9615-22f2-4880-fdc7-a9839d34ac15"
      },
      "execution_count": null,
      "outputs": [
        {
          "output_type": "stream",
          "name": "stdout",
          "text": [
            "and again\n"
          ]
        }
      ]
    },
    {
      "cell_type": "code",
      "source": [
        "# Variável contador\n",
        "\n",
        "counter = 1\n",
        "\n",
        "while counter < 4:\n",
        "  print(counter)\n",
        "  counter += 1\n",
        "\n",
        "#------------------------\n",
        "print('\\n')\n",
        "\n",
        "\n",
        "regressiva = 5\n",
        "while regressiva > 0:\n",
        "  print(regressiva)\n",
        "  regressiva -= 1\n",
        "print('GO!')"
      ],
      "metadata": {
        "colab": {
          "base_uri": "https://localhost:8080/"
        },
        "id": "ns2Z4ynrDzGz",
        "outputId": "ae65c65b-ecb0-4c17-9197-f02f27f60d19"
      },
      "execution_count": null,
      "outputs": [
        {
          "output_type": "stream",
          "name": "stdout",
          "text": [
            "1\n",
            "2\n",
            "3\n",
            "\n",
            "\n",
            "5\n",
            "4\n",
            "3\n",
            "2\n",
            "1\n",
            "GO!\n"
          ]
        }
      ]
    },
    {
      "cell_type": "code",
      "source": [
        "first_counter = 0\n",
        "\n",
        "while first_counter < 5:\n",
        "  print('**********---------')\n",
        "  first_counter += 1\n",
        "\n",
        "second_counter = 0\n",
        "\n",
        "while second_counter < 4:\n",
        "  print('-------------------')\n",
        "  second_counter += 1"
      ],
      "metadata": {
        "colab": {
          "base_uri": "https://localhost:8080/"
        },
        "id": "X489JuIAFiWK",
        "outputId": "b8363470-81ed-48af-ea23-dd47c85d3ed8"
      },
      "execution_count": null,
      "outputs": [
        {
          "output_type": "stream",
          "name": "stdout",
          "text": [
            "**********---------\n",
            "**********---------\n",
            "**********---------\n",
            "**********---------\n",
            "**********---------\n",
            "-------------------\n",
            "-------------------\n",
            "-------------------\n",
            "-------------------\n"
          ]
        }
      ]
    },
    {
      "cell_type": "code",
      "source": [
        "# loop for -> for i in range ():  (i pode ser variável)\n",
        "\n",
        "nome = 'Victor'\n",
        "for i in range(4):\n",
        "  print(nome)\n",
        "\n",
        "print('\\n')\n",
        "for i in range(6):\n",
        "  print(i)\n",
        "\n",
        "print('\\n')\n",
        "for i in range(3):\n",
        "  print(i)\n",
        "  print('Intercalado')\n",
        "\n",
        "#BREAK -> interrompe / CoNTINUE -> pula"
      ],
      "metadata": {
        "colab": {
          "base_uri": "https://localhost:8080/"
        },
        "id": "Bncks1iXHGM_",
        "outputId": "83e88e39-bcd7-4568-d942-6166e7e312d3"
      },
      "execution_count": null,
      "outputs": [
        {
          "output_type": "stream",
          "name": "stdout",
          "text": [
            "Victor\n",
            "Victor\n",
            "Victor\n",
            "Victor\n",
            "\n",
            "\n",
            "0\n",
            "1\n",
            "2\n",
            "3\n",
            "4\n",
            "5\n",
            "\n",
            "\n",
            "0\n",
            "Intercalado\n",
            "1\n",
            "Intercalado\n",
            "2\n",
            "Intercalado\n"
          ]
        }
      ]
    },
    {
      "cell_type": "code",
      "source": [
        "#Múltiplos de 7 (RANGE(início, fim, passo(+/-)))\n",
        "\n",
        "sete = 0\n",
        "while sete <= 70:\n",
        "  print(sete)\n",
        "  sete += 7\n",
        "\n",
        "for s in range(0, 71, 7):\n",
        "  print(s)"
      ],
      "metadata": {
        "colab": {
          "base_uri": "https://localhost:8080/"
        },
        "id": "jlXR6kKRyDBJ",
        "outputId": "5a3952e5-b8e5-41bf-f897-cc9890804f77"
      },
      "execution_count": null,
      "outputs": [
        {
          "output_type": "stream",
          "name": "stdout",
          "text": [
            "0\n",
            "7\n",
            "14\n",
            "21\n",
            "28\n",
            "35\n",
            "42\n",
            "49\n",
            "56\n",
            "63\n",
            "70\n",
            "0\n",
            "7\n",
            "14\n",
            "21\n",
            "28\n",
            "35\n",
            "42\n",
            "49\n",
            "56\n",
            "63\n",
            "70\n"
          ]
        }
      ]
    },
    {
      "cell_type": "code",
      "source": [
        "#REGRESSIVA COM FOR\n",
        "\n",
        "for l in range(5, 0, -1):\n",
        "  print(l)"
      ],
      "metadata": {
        "colab": {
          "base_uri": "https://localhost:8080/"
        },
        "id": "KARM-Cl9gQQr",
        "outputId": "8e49ea06-5d30-4200-c673-6a066e8b59dc"
      },
      "execution_count": null,
      "outputs": [
        {
          "output_type": "stream",
          "name": "stdout",
          "text": [
            "5\n",
            "4\n",
            "3\n",
            "2\n",
            "1\n"
          ]
        }
      ]
    },
    {
      "cell_type": "code",
      "source": [
        "#Auto-atribuição\n",
        "\n",
        "#ANTES\n",
        "\n",
        "a = 0\n",
        "while a < 4:\n",
        "  print(a)\n",
        "  a += 1"
      ],
      "metadata": {
        "colab": {
          "base_uri": "https://localhost:8080/"
        },
        "id": "C7LvXPVuSXQp",
        "outputId": "9d44b9d7-be06-4bf0-f49c-e8d3c005689d"
      },
      "execution_count": null,
      "outputs": [
        {
          "output_type": "stream",
          "name": "stdout",
          "text": [
            "0\n",
            "1\n",
            "2\n",
            "3\n"
          ]
        }
      ]
    },
    {
      "cell_type": "code",
      "source": [
        "#DEPOIS\n",
        "\n",
        "b = 0\n",
        "while b < 4:\n",
        "  b += 1\n",
        "  print(b)\n",
        "\n",
        "#AUMENTA 1 AO VALOR DA VARIÁVEL E DO WHILE"
      ],
      "metadata": {
        "colab": {
          "base_uri": "https://localhost:8080/"
        },
        "id": "qBrIomfGSr3O",
        "outputId": "0e744379-d571-4fe3-dbec-2633c804157b"
      },
      "execution_count": null,
      "outputs": [
        {
          "output_type": "stream",
          "name": "stdout",
          "text": [
            "1\n",
            "2\n",
            "3\n",
            "4\n"
          ]
        }
      ]
    },
    {
      "cell_type": "code",
      "source": [
        "#LISTAS\n",
        "\n",
        "lista_de_compras = ['feijão','arroz','farinha']\n",
        "print(lista_de_compras)\n",
        "\n",
        "print(lista_de_compras[0])\n",
        "\n",
        "lista_de_compras[2] = 'macarrão'\n",
        "print(lista_de_compras)\n",
        "\n",
        "lista_de_compras.append('sal')\n",
        "print(lista_de_compras)\n",
        "\n",
        "lista_de_compras.insert(0, 'batata')\n",
        "print(lista_de_compras)\n",
        "\n",
        "lista_de_compras.pop()\n",
        "print(lista_de_compras)\n",
        "\n",
        "lista_de_compras.pop(0)\n",
        "print(lista_de_compras)\n",
        "\n",
        "#ÍNDICES SÃO AS POSIÇÕES (COMEÇAM DO ZERO)\n",
        "# variável[índice] = ALTERA O VALOR DA POSIÇÃO\n",
        "# variavél.append(elemento) para ADICIONAR ELEMENTO AO FINAL\n",
        "# variável.insert(índice, elemento) para ADICIONAR A ÍNDICE ESCOLHIDO\n",
        "# variável.pop() -> REMOVE último elemento (específico -> valor do índice nos parênteses)"
      ],
      "metadata": {
        "colab": {
          "base_uri": "https://localhost:8080/"
        },
        "id": "DE7iBDtdT2Z9",
        "outputId": "ea5d7a0f-ff8d-44cc-a783-e9518396aa6b"
      },
      "execution_count": null,
      "outputs": [
        {
          "output_type": "stream",
          "name": "stdout",
          "text": [
            "['feijão', 'arroz', 'farinha']\n",
            "feijão\n",
            "['feijão', 'arroz', 'macarrão']\n",
            "['feijão', 'arroz', 'macarrão', 'sal']\n",
            "['batata', 'feijão', 'arroz', 'macarrão', 'sal']\n",
            "['batata', 'feijão', 'arroz', 'macarrão']\n",
            "['feijão', 'arroz', 'macarrão']\n"
          ]
        }
      ]
    },
    {
      "cell_type": "code",
      "source": [
        "#IMPRESSÃO DOS ELEMENTOS (for variável qualquer in lista:; print(variável) )\n",
        "\n",
        "fps_games = ['Call of Duty','Overwatch','Counter-Strike']\n",
        "for games in fps_games:\n",
        "  print(games)\n",
        "  print('----------')\n",
        "\n"
      ],
      "metadata": {
        "colab": {
          "base_uri": "https://localhost:8080/"
        },
        "id": "Onjyq6gcdVDN",
        "outputId": "61f63121-a2c0-451e-9fde-5dbc7eb500d0"
      },
      "execution_count": null,
      "outputs": [
        {
          "output_type": "stream",
          "name": "stdout",
          "text": [
            "Call of Duty\n",
            "----------\n",
            "Overwatch\n",
            "----------\n",
            "Counter-Strike\n",
            "----------\n"
          ]
        }
      ]
    },
    {
      "cell_type": "code",
      "source": [
        "#Nº de elementos de uma lista (len(nome da lista))\n",
        "\n",
        "users = ['Tom','Mia','John']\n",
        "print(len(users))\n",
        "if len(users) == 3:\n",
        "  print('3 Usuários presentes')"
      ],
      "metadata": {
        "colab": {
          "base_uri": "https://localhost:8080/"
        },
        "id": "zma5srrFfbux",
        "outputId": "33e5fd9a-fcef-4508-8f9e-b1bcd58dc1da"
      },
      "execution_count": null,
      "outputs": [
        {
          "output_type": "stream",
          "name": "stdout",
          "text": [
            "3\n",
            "3 Usuários presentes\n"
          ]
        }
      ]
    },
    {
      "cell_type": "code",
      "source": [
        "artists = ['Lionel Richie','Michael Jackson','Grover Washington Jr.']\n",
        "number_of_artists = len(artists)\n",
        "print(f'You follow {number_of_artists} artists.')"
      ],
      "metadata": {
        "colab": {
          "base_uri": "https://localhost:8080/"
        },
        "id": "s6aDxFMEJ8tg",
        "outputId": "7f44ad88-590a-4084-a7dc-b3d533c7edad"
      },
      "execution_count": null,
      "outputs": [
        {
          "output_type": "stream",
          "name": "stdout",
          "text": [
            "You follow 3 artists.\n"
          ]
        }
      ]
    },
    {
      "cell_type": "code",
      "source": [
        "models = ['S25', 'A26 5G', 'Tab S6 lite']\n",
        "for model in models:\n",
        "  print('Galaxy ' + model)\n",
        "  print('=====')"
      ],
      "metadata": {
        "colab": {
          "base_uri": "https://localhost:8080/"
        },
        "id": "kLJXaMZjkbaJ",
        "outputId": "f32687c5-93c1-4217-8aeb-da437071e7f9"
      },
      "execution_count": null,
      "outputs": [
        {
          "output_type": "stream",
          "name": "stdout",
          "text": [
            "Galaxy S25\n",
            "=====\n",
            "Galaxy A26 5G\n",
            "=====\n",
            "Galaxy Tab S6 lite\n",
            "=====\n"
          ]
        }
      ]
    },
    {
      "cell_type": "code",
      "source": [
        "#VALORES MÁXIMOS E MÍNIMOS / ORDENAÇÃO\n",
        "\n",
        "scores = [3, 6, 1, 12]\n",
        "print(max(scores))\n",
        "print(min(scores))\n",
        "scores.sort()\n",
        "print(scores)"
      ],
      "metadata": {
        "colab": {
          "base_uri": "https://localhost:8080/"
        },
        "id": "okj14AnWniJh",
        "outputId": "612f7201-b193-438c-da74-355fa68ebc64"
      },
      "execution_count": null,
      "outputs": [
        {
          "output_type": "stream",
          "name": "stdout",
          "text": [
            "12\n",
            "1\n",
            "[1, 3, 6, 12]\n"
          ]
        }
      ]
    },
    {
      "cell_type": "code",
      "source": [
        "#Ordem alfábetica\n",
        "\n",
        "alunos = ['João','Maria','Carlos','Victor','Fábio','Ana']\n",
        "alunos.sort()\n",
        "print(alunos)"
      ],
      "metadata": {
        "colab": {
          "base_uri": "https://localhost:8080/"
        },
        "id": "DwKXQfk9pKCm",
        "outputId": "006d4fbb-d872-4f88-d775-360ddea449b0"
      },
      "execution_count": null,
      "outputs": [
        {
          "output_type": "stream",
          "name": "stdout",
          "text": [
            "['Ana', 'Carlos', 'Fábio', 'João', 'Maria', 'Victor']\n"
          ]
        }
      ]
    },
    {
      "cell_type": "code",
      "source": [
        "a1 = input('Nome 1: ')\n",
        "a2 = input('Nome 2: ')\n",
        "a3 = input('Nome 3: ')\n",
        "a4 = input('Nome 4: ')\n",
        "a5 = input('Nome 5: ')\n",
        "lista_de_alunos = [a1,a2,a3,a4,a5]\n",
        "lista_de_alunos.sort()\n",
        "print('\\n')\n",
        "for alunos in lista_de_alunos:\n",
        "  print(alunos)"
      ],
      "metadata": {
        "colab": {
          "base_uri": "https://localhost:8080/"
        },
        "id": "A486s5T9qZwi",
        "outputId": "f4db6990-5bcd-4a76-99dd-4be3b928a108"
      },
      "execution_count": null,
      "outputs": [
        {
          "output_type": "stream",
          "name": "stdout",
          "text": [
            "Nome 1: Mariana\n",
            "Nome 2: Clara\n",
            "Nome 3: João\n",
            "Nome 4: Márcio\n",
            "Nome 5: Fábio\n",
            "\n",
            "\n",
            "Clara\n",
            "Fábio\n",
            "João\n",
            "Mariana\n",
            "Márcio\n"
          ]
        }
      ]
    },
    {
      "cell_type": "code",
      "source": [
        "#SOMA DOS ELEMENTOS -> sum(lista)\n",
        "\n",
        "notas = [10, 8.5, 9.3, 7.9]\n",
        "soma = sum(notas)\n",
        "print(soma)"
      ],
      "metadata": {
        "colab": {
          "base_uri": "https://localhost:8080/"
        },
        "id": "FtQSV36Trv8D",
        "outputId": "4c780053-3cc4-4e16-8e67-da01e31626af"
      },
      "execution_count": null,
      "outputs": [
        {
          "output_type": "stream",
          "name": "stdout",
          "text": [
            "35.7\n"
          ]
        }
      ]
    },
    {
      "cell_type": "code",
      "source": [
        "#UNIR ELEMENTOS\n",
        "\n",
        "n1 = [1, False]\n",
        "n2 = [3, 2, 'Quatro']\n",
        "listas = n1+n2\n",
        "print(listas)"
      ],
      "metadata": {
        "colab": {
          "base_uri": "https://localhost:8080/"
        },
        "id": "obkS8QK8Vadg",
        "outputId": "d4e83a5c-5bdd-4132-8fe0-054b66ee8818"
      },
      "execution_count": null,
      "outputs": [
        {
          "output_type": "stream",
          "name": "stdout",
          "text": [
            "[1, False, 3, 2, 'Quatro']\n"
          ]
        }
      ]
    },
    {
      "cell_type": "code",
      "source": [
        "#CONTAR ELEMENTOS REPETIDOS (lista.count(elemento))\n",
        "\n",
        "children = ['boy','girl','boy','boy','girl','girl','girl']\n",
        "print(children.count('boy'))\n",
        "\n",
        "boys = children.count('boy')\n",
        "girls = children.count('girl')\n",
        "if boys > girls:\n",
        "  print('There´s more boys.')\n",
        "else:\n",
        "  print('There´s more girls')"
      ],
      "metadata": {
        "colab": {
          "base_uri": "https://localhost:8080/"
        },
        "id": "P8iwNR0WZlW6",
        "outputId": "a613e324-4b87-4497-c9ae-691ff21b8928"
      },
      "execution_count": null,
      "outputs": [
        {
          "output_type": "stream",
          "name": "stdout",
          "text": [
            "3\n",
            "There´s more girls\n"
          ]
        }
      ]
    },
    {
      "cell_type": "code",
      "source": [
        "#CHECAR EXISTÊNCIA DE UM ELEMENTO (elemento in lista)\n",
        "\n",
        "goal = [1, 2]\n",
        "print(3 in goal)\n",
        "print(2 in goal)"
      ],
      "metadata": {
        "colab": {
          "base_uri": "https://localhost:8080/"
        },
        "id": "LmzUy-IBavA_",
        "outputId": "7c38e252-7f8a-48c7-fa7c-27eae52885c2"
      },
      "execution_count": null,
      "outputs": [
        {
          "output_type": "stream",
          "name": "stdout",
          "text": [
            "False\n",
            "True\n"
          ]
        }
      ]
    },
    {
      "cell_type": "code",
      "source": [
        "#Dividir strings\n",
        "\n",
        "actor = 'Jean Claude Van Dame'\n",
        "actor_list = actor.split()\n",
        "print(actor_list)"
      ],
      "metadata": {
        "colab": {
          "base_uri": "https://localhost:8080/"
        },
        "id": "bBur6iy8tAnh",
        "outputId": "74e403d1-7abd-4bde-9a48-374302745f40"
      },
      "execution_count": null,
      "outputs": [
        {
          "output_type": "stream",
          "name": "stdout",
          "text": [
            "['Jean', 'Claude', 'Van', 'Dame']\n"
          ]
        }
      ]
    },
    {
      "cell_type": "code",
      "source": [
        "#SUBSTITUIR STRINGS (variável.replace('antigo','novo'))\n",
        "\n",
        "band = 'My favorite band is The Beatles'\n",
        "new_band = band.replace('The Beatles','AC/DC')\n",
        "print(new_band)\n",
        "\n",
        "month = 'June, the month is June.'\n",
        "new_month = month.replace('June','July')\n",
        "print(new_month)"
      ],
      "metadata": {
        "colab": {
          "base_uri": "https://localhost:8080/"
        },
        "id": "qB4na3zptZUr",
        "outputId": "2c823e4d-96c0-48a6-8ef9-294eae8656c2"
      },
      "execution_count": null,
      "outputs": [
        {
          "output_type": "stream",
          "name": "stdout",
          "text": [
            "My favorite band is AC/DC\n",
            "July, the month is July.\n"
          ]
        }
      ]
    },
    {
      "cell_type": "code",
      "source": [
        "#TABUADA (VARIAÇÃO DO RANGE)\n",
        "\n",
        "print('Digite um número para ver sua tabuada.')\n",
        "tab = int(input('\\nSeu Número: '))\n",
        "for c in range(1, 11):\n",
        "  print(f'{tab} x {c} = {tab*c}')\n",
        "\n",
        "\n"
      ],
      "metadata": {
        "colab": {
          "base_uri": "https://localhost:8080/"
        },
        "id": "5dVLQ397x7C6",
        "outputId": "e7c5edf7-b7d1-4295-c8db-1619a5d284fa"
      },
      "execution_count": null,
      "outputs": [
        {
          "output_type": "stream",
          "name": "stdout",
          "text": [
            "Digite um número para ver sua tabuada.\n",
            "\n",
            "Seu Número: 8\n",
            "8 x 1 = 8\n",
            "8 x 2 = 16\n",
            "8 x 3 = 24\n",
            "8 x 4 = 32\n",
            "8 x 5 = 40\n",
            "8 x 6 = 48\n",
            "8 x 7 = 56\n",
            "8 x 8 = 64\n",
            "8 x 9 = 72\n",
            "8 x 10 = 80\n"
          ]
        }
      ]
    },
    {
      "cell_type": "code",
      "source": [
        "p = int(input('Seu Número: '))\n",
        "multiplicator = 1\n",
        "while multiplicator < 11:\n",
        "  print(f'{p} x {multiplicator} = {p*multiplicator}')\n",
        "  multiplicator += 1"
      ],
      "metadata": {
        "id": "jwT_a-D64CA5"
      },
      "execution_count": null,
      "outputs": []
    },
    {
      "cell_type": "code",
      "source": [
        "#FUNÇÃO (def fun_ção(parâmetro):)\n",
        "#RETURN chama variável escolhida -> Evita a saída None\n",
        "\n",
        "def weather_update():\n",
        "  print('Sunny')\n",
        "  print('Rainy')\n",
        "print('Weather:\\n')\n",
        "weather_update()\n",
        "\n",
        "def user(status):\n",
        "  print(f'Status: {status}')\n",
        "user('online')\n",
        "\n",
        "def double_number(number):\n",
        "  result = 2*number\n",
        "  print(result)\n",
        "double_number(2)\n",
        "\n",
        "def user_name(name):\n",
        "  username = (f'Username: {name}')\n",
        "  return username\n",
        "print(user_name('Victor'))\n"
      ],
      "metadata": {
        "colab": {
          "base_uri": "https://localhost:8080/"
        },
        "id": "v2Q5ypJSW9hE",
        "outputId": "53d92cae-4e10-48a1-cb23-d06d5d689806"
      },
      "execution_count": null,
      "outputs": [
        {
          "output_type": "stream",
          "name": "stdout",
          "text": [
            "Weather:\n",
            "\n",
            "Sunny\n",
            "Rainy\n",
            "Status: online\n",
            "4\n",
            "Username: Victor\n"
          ]
        }
      ]
    },
    {
      "cell_type": "code",
      "source": [
        "#Variável acumuladora\n",
        "\n",
        "n = int(input('Número de cálculos: '))\n",
        "acumuladora = 0\n",
        "for numero in range(n):\n",
        "  aux = int(input('Digite um número: '))\n",
        "  acumuladora += aux\n",
        "print(f'A soma dos valores é: {acumuladora}')"
      ],
      "metadata": {
        "colab": {
          "base_uri": "https://localhost:8080/"
        },
        "id": "KCo4RoqNiRae",
        "outputId": "749b84c7-d4ea-4713-c10b-5fa970a41f86"
      },
      "execution_count": null,
      "outputs": [
        {
          "output_type": "stream",
          "name": "stdout",
          "text": [
            "Número de cálculos: 5\n",
            "Digite um número: 48\n",
            "Digite um número: 24\n",
            "Digite um número: 17\n",
            "Digite um número: 78\n",
            "Digite um número: 45\n",
            "A soma dos valores é: 212\n"
          ]
        }
      ]
    },
    {
      "cell_type": "code",
      "source": [
        "# BREAK (depois) E CONTINUE (antes)\n",
        "\n",
        "for h in range(1, 10):\n",
        "  print(h)\n",
        "  if h >= 4:\n",
        "   break\n",
        "\n",
        "print('\\n')\n",
        "\n",
        "for g in range(1, 6):\n",
        "  if g == 3:\n",
        "    continue\n",
        "  print(g)\n"
      ],
      "metadata": {
        "colab": {
          "base_uri": "https://localhost:8080/"
        },
        "id": "75esKisBkXtp",
        "outputId": "2bceb9a2-11f9-41da-c619-74c186e4a4ef"
      },
      "execution_count": null,
      "outputs": [
        {
          "output_type": "stream",
          "name": "stdout",
          "text": [
            "1\n",
            "2\n",
            "3\n",
            "4\n",
            "\n",
            "\n",
            "1\n",
            "2\n",
            "4\n",
            "5\n"
          ]
        }
      ]
    },
    {
      "cell_type": "code",
      "source": [
        "#JOGO DA ADIVINHAÇÃO\n",
        "\n",
        "import random\n",
        "número = random.randrange(1, 101)\n",
        "palpite = int(input('Seu palpite: '))\n",
        "for palpites in range(1, 101):\n",
        "  if palpite > número:\n",
        "    print(f'{palpite} está acima.')\n",
        "  elif palpite < número:\n",
        "    print(f'{palpite} está abaixo.')\n",
        "  elif palpite == número:\n",
        "    print('Você acertou!')\n",
        "    break\n",
        "  palpite = int(print('Tente Novamente: '))\n",
        "\n",
        "print(f'\\nVocê conseguiu em {palpites} tentativas!')"
      ],
      "metadata": {
        "colab": {
          "base_uri": "https://localhost:8080/",
          "height": 263
        },
        "id": "Rqwq5h35mw0T",
        "outputId": "ecf65c9a-edb5-4eb5-b846-2395379d1645"
      },
      "execution_count": null,
      "outputs": [
        {
          "output_type": "stream",
          "name": "stdout",
          "text": [
            "Seu palpite: 5\n",
            "5 está abaixo.\n",
            "Tente Novamente: \n"
          ]
        },
        {
          "output_type": "error",
          "ename": "TypeError",
          "evalue": "int() argument must be a string, a bytes-like object or a real number, not 'NoneType'",
          "traceback": [
            "\u001b[0;31m---------------------------------------------------------------------------\u001b[0m",
            "\u001b[0;31mTypeError\u001b[0m                                 Traceback (most recent call last)",
            "\u001b[0;32m<ipython-input-43-6165ce6e0811>\u001b[0m in \u001b[0;36m<cell line: 0>\u001b[0;34m()\u001b[0m\n\u001b[1;32m     12\u001b[0m     \u001b[0mprint\u001b[0m\u001b[0;34m(\u001b[0m\u001b[0;34m'Você acertou!'\u001b[0m\u001b[0;34m)\u001b[0m\u001b[0;34m\u001b[0m\u001b[0;34m\u001b[0m\u001b[0m\n\u001b[1;32m     13\u001b[0m     \u001b[0;32mbreak\u001b[0m\u001b[0;34m\u001b[0m\u001b[0;34m\u001b[0m\u001b[0m\n\u001b[0;32m---> 14\u001b[0;31m   \u001b[0mpalpite\u001b[0m \u001b[0;34m=\u001b[0m \u001b[0mint\u001b[0m\u001b[0;34m(\u001b[0m\u001b[0mprint\u001b[0m\u001b[0;34m(\u001b[0m\u001b[0;34m'Tente Novamente: '\u001b[0m\u001b[0;34m)\u001b[0m\u001b[0;34m)\u001b[0m\u001b[0;34m\u001b[0m\u001b[0;34m\u001b[0m\u001b[0m\n\u001b[0m\u001b[1;32m     15\u001b[0m \u001b[0;34m\u001b[0m\u001b[0m\n\u001b[1;32m     16\u001b[0m \u001b[0mprint\u001b[0m\u001b[0;34m(\u001b[0m\u001b[0;34mf'\\nVocê conseguiu em {palpites} tentativas!'\u001b[0m\u001b[0;34m)\u001b[0m\u001b[0;34m\u001b[0m\u001b[0;34m\u001b[0m\u001b[0m\n",
            "\u001b[0;31mTypeError\u001b[0m: int() argument must be a string, a bytes-like object or a real number, not 'NoneType'"
          ]
        }
      ]
    },
    {
      "cell_type": "markdown",
      "source": [
        "Leia 6 valores. Em seguida, mostre quantos destes valores digitados foram positivos. Na próxima linha, deve-se mostrar a média de todos os valores positivos digitados, com um dígito após o ponto decimal."
      ],
      "metadata": {
        "id": "Qwo2sg1qw6XS"
      }
    },
    {
      "cell_type": "code",
      "source": [
        "print('Informe 6 números')\n",
        "n1 = float(input('\\n1º Número: '))\n",
        "n2 = float(input('2º Número: '))\n",
        "n3 = float(input('3º Número: '))\n",
        "n4 = float(input('4º Número: '))\n",
        "n5 = float(input('5º Número: '))\n",
        "n6 = float(input('6º Número: '))\n",
        "números = [n1, n2, n3, n4, n5, n6]\n",
        "positivos = []\n",
        "for i in números:\n",
        "  if i > 0:\n",
        "    positivos.insert(0, i)\n",
        "print(f'\\n{len(positivos)} números postivos.')\n",
        "print(f'Sua média é {sum(positivos)/len(positivos)}.')"
      ],
      "metadata": {
        "colab": {
          "base_uri": "https://localhost:8080/",
          "height": 373
        },
        "id": "j0jbqZW7w8ei",
        "outputId": "2e894cf3-9d7e-4bc1-9d8a-f347440237d8"
      },
      "execution_count": null,
      "outputs": [
        {
          "output_type": "stream",
          "name": "stdout",
          "text": [
            "Informe 6 números\n"
          ]
        },
        {
          "output_type": "error",
          "ename": "KeyboardInterrupt",
          "evalue": "Interrupted by user",
          "traceback": [
            "\u001b[0;31m---------------------------------------------------------------------------\u001b[0m",
            "\u001b[0;31mKeyboardInterrupt\u001b[0m                         Traceback (most recent call last)",
            "\u001b[0;32m<ipython-input-23-e97f6ac5a496>\u001b[0m in \u001b[0;36m<cell line: 0>\u001b[0;34m()\u001b[0m\n\u001b[1;32m      1\u001b[0m \u001b[0mprint\u001b[0m\u001b[0;34m(\u001b[0m\u001b[0;34m'Informe 6 números'\u001b[0m\u001b[0;34m)\u001b[0m\u001b[0;34m\u001b[0m\u001b[0;34m\u001b[0m\u001b[0m\n\u001b[0;32m----> 2\u001b[0;31m \u001b[0mn1\u001b[0m \u001b[0;34m=\u001b[0m \u001b[0mfloat\u001b[0m\u001b[0;34m(\u001b[0m\u001b[0minput\u001b[0m\u001b[0;34m(\u001b[0m\u001b[0;34m'\\n1º Número: '\u001b[0m\u001b[0;34m)\u001b[0m\u001b[0;34m)\u001b[0m\u001b[0;34m\u001b[0m\u001b[0;34m\u001b[0m\u001b[0m\n\u001b[0m\u001b[1;32m      3\u001b[0m \u001b[0mn2\u001b[0m \u001b[0;34m=\u001b[0m \u001b[0mfloat\u001b[0m\u001b[0;34m(\u001b[0m\u001b[0minput\u001b[0m\u001b[0;34m(\u001b[0m\u001b[0;34m'2º Número: '\u001b[0m\u001b[0;34m)\u001b[0m\u001b[0;34m)\u001b[0m\u001b[0;34m\u001b[0m\u001b[0;34m\u001b[0m\u001b[0m\n\u001b[1;32m      4\u001b[0m \u001b[0mn3\u001b[0m \u001b[0;34m=\u001b[0m \u001b[0mfloat\u001b[0m\u001b[0;34m(\u001b[0m\u001b[0minput\u001b[0m\u001b[0;34m(\u001b[0m\u001b[0;34m'3º Número: '\u001b[0m\u001b[0;34m)\u001b[0m\u001b[0;34m)\u001b[0m\u001b[0;34m\u001b[0m\u001b[0;34m\u001b[0m\u001b[0m\n\u001b[1;32m      5\u001b[0m \u001b[0mn4\u001b[0m \u001b[0;34m=\u001b[0m \u001b[0mfloat\u001b[0m\u001b[0;34m(\u001b[0m\u001b[0minput\u001b[0m\u001b[0;34m(\u001b[0m\u001b[0;34m'4º Número: '\u001b[0m\u001b[0;34m)\u001b[0m\u001b[0;34m)\u001b[0m\u001b[0;34m\u001b[0m\u001b[0;34m\u001b[0m\u001b[0m\n",
            "\u001b[0;32m/usr/local/lib/python3.11/dist-packages/ipykernel/kernelbase.py\u001b[0m in \u001b[0;36mraw_input\u001b[0;34m(self, prompt)\u001b[0m\n\u001b[1;32m   1175\u001b[0m                 \u001b[0;34m\"raw_input was called, but this frontend does not support input requests.\"\u001b[0m\u001b[0;34m\u001b[0m\u001b[0;34m\u001b[0m\u001b[0m\n\u001b[1;32m   1176\u001b[0m             )\n\u001b[0;32m-> 1177\u001b[0;31m         return self._input_request(\n\u001b[0m\u001b[1;32m   1178\u001b[0m             \u001b[0mstr\u001b[0m\u001b[0;34m(\u001b[0m\u001b[0mprompt\u001b[0m\u001b[0;34m)\u001b[0m\u001b[0;34m,\u001b[0m\u001b[0;34m\u001b[0m\u001b[0;34m\u001b[0m\u001b[0m\n\u001b[1;32m   1179\u001b[0m             \u001b[0mself\u001b[0m\u001b[0;34m.\u001b[0m\u001b[0m_parent_ident\u001b[0m\u001b[0;34m[\u001b[0m\u001b[0;34m\"shell\"\u001b[0m\u001b[0;34m]\u001b[0m\u001b[0;34m,\u001b[0m\u001b[0;34m\u001b[0m\u001b[0;34m\u001b[0m\u001b[0m\n",
            "\u001b[0;32m/usr/local/lib/python3.11/dist-packages/ipykernel/kernelbase.py\u001b[0m in \u001b[0;36m_input_request\u001b[0;34m(self, prompt, ident, parent, password)\u001b[0m\n\u001b[1;32m   1217\u001b[0m             \u001b[0;32mexcept\u001b[0m \u001b[0mKeyboardInterrupt\u001b[0m\u001b[0;34m:\u001b[0m\u001b[0;34m\u001b[0m\u001b[0;34m\u001b[0m\u001b[0m\n\u001b[1;32m   1218\u001b[0m                 \u001b[0;31m# re-raise KeyboardInterrupt, to truncate traceback\u001b[0m\u001b[0;34m\u001b[0m\u001b[0;34m\u001b[0m\u001b[0m\n\u001b[0;32m-> 1219\u001b[0;31m                 \u001b[0;32mraise\u001b[0m \u001b[0mKeyboardInterrupt\u001b[0m\u001b[0;34m(\u001b[0m\u001b[0;34m\"Interrupted by user\"\u001b[0m\u001b[0;34m)\u001b[0m \u001b[0;32mfrom\u001b[0m \u001b[0;32mNone\u001b[0m\u001b[0;34m\u001b[0m\u001b[0;34m\u001b[0m\u001b[0m\n\u001b[0m\u001b[1;32m   1220\u001b[0m             \u001b[0;32mexcept\u001b[0m \u001b[0mException\u001b[0m\u001b[0;34m:\u001b[0m\u001b[0;34m\u001b[0m\u001b[0;34m\u001b[0m\u001b[0m\n\u001b[1;32m   1221\u001b[0m                 \u001b[0mself\u001b[0m\u001b[0;34m.\u001b[0m\u001b[0mlog\u001b[0m\u001b[0;34m.\u001b[0m\u001b[0mwarning\u001b[0m\u001b[0;34m(\u001b[0m\u001b[0;34m\"Invalid Message:\"\u001b[0m\u001b[0;34m,\u001b[0m \u001b[0mexc_info\u001b[0m\u001b[0;34m=\u001b[0m\u001b[0;32mTrue\u001b[0m\u001b[0;34m)\u001b[0m\u001b[0;34m\u001b[0m\u001b[0;34m\u001b[0m\u001b[0m\n",
            "\u001b[0;31mKeyboardInterrupt\u001b[0m: Interrupted by user"
          ]
        }
      ]
    },
    {
      "cell_type": "code",
      "source": [
        "print('Digite 5 números.')\n",
        "n1 = float(input('\\n1º Número: '))\n",
        "n2 = float(input('2º Número: '))\n",
        "n3 = float(input('3º Número: '))\n",
        "n4 = float(input('4º Número: '))\n",
        "n5 = float(input('5º Número: '))\n",
        "n = [n1, n2, n3, n4, n5]\n",
        "par = []\n",
        "ímpar = []\n",
        "pos = []\n",
        "neg = []\n",
        "for i in n:\n",
        "    if i % 2 == 0:\n",
        "        par.insert(0, i)\n",
        "    elif i % 2 == 1:\n",
        "        ímpar.insert(0, i)\n",
        "for i in n:\n",
        "    if i > 0:\n",
        "        pos.insert(0, i)\n",
        "    elif i < 0 and i != 0:\n",
        "        neg.insert(0, i)\n",
        "print(f'\\n{len(par)} valor(es) par(es)')\n",
        "print(f'\\n{len(ímpar)} valor(es) ímpar(es)')\n",
        "print(f'\\n{len(pos)} valor(es) positivo(s)')\n",
        "print(f'\\n{len(neg)} valor(es) negativo(s)')\n"
      ],
      "metadata": {
        "colab": {
          "base_uri": "https://localhost:8080/",
          "height": 373
        },
        "id": "APXPbaIagBSw",
        "outputId": "a2d96821-3e77-4e96-c22d-444b67f1fe93"
      },
      "execution_count": null,
      "outputs": [
        {
          "output_type": "stream",
          "name": "stdout",
          "text": [
            "Digite 5 números.\n"
          ]
        },
        {
          "output_type": "error",
          "ename": "KeyboardInterrupt",
          "evalue": "Interrupted by user",
          "traceback": [
            "\u001b[0;31m---------------------------------------------------------------------------\u001b[0m",
            "\u001b[0;31mKeyboardInterrupt\u001b[0m                         Traceback (most recent call last)",
            "\u001b[0;32m<ipython-input-24-0909b2b75d8f>\u001b[0m in \u001b[0;36m<cell line: 0>\u001b[0;34m()\u001b[0m\n\u001b[1;32m      1\u001b[0m \u001b[0mprint\u001b[0m\u001b[0;34m(\u001b[0m\u001b[0;34m'Digite 5 números.'\u001b[0m\u001b[0;34m)\u001b[0m\u001b[0;34m\u001b[0m\u001b[0;34m\u001b[0m\u001b[0m\n\u001b[0;32m----> 2\u001b[0;31m \u001b[0mn1\u001b[0m \u001b[0;34m=\u001b[0m \u001b[0mfloat\u001b[0m\u001b[0;34m(\u001b[0m\u001b[0minput\u001b[0m\u001b[0;34m(\u001b[0m\u001b[0;34m'\\n1º Número: '\u001b[0m\u001b[0;34m)\u001b[0m\u001b[0;34m)\u001b[0m\u001b[0;34m\u001b[0m\u001b[0;34m\u001b[0m\u001b[0m\n\u001b[0m\u001b[1;32m      3\u001b[0m \u001b[0mn2\u001b[0m \u001b[0;34m=\u001b[0m \u001b[0mfloat\u001b[0m\u001b[0;34m(\u001b[0m\u001b[0minput\u001b[0m\u001b[0;34m(\u001b[0m\u001b[0;34m'2º Número: '\u001b[0m\u001b[0;34m)\u001b[0m\u001b[0;34m)\u001b[0m\u001b[0;34m\u001b[0m\u001b[0;34m\u001b[0m\u001b[0m\n\u001b[1;32m      4\u001b[0m \u001b[0mn3\u001b[0m \u001b[0;34m=\u001b[0m \u001b[0mfloat\u001b[0m\u001b[0;34m(\u001b[0m\u001b[0minput\u001b[0m\u001b[0;34m(\u001b[0m\u001b[0;34m'3º Número: '\u001b[0m\u001b[0;34m)\u001b[0m\u001b[0;34m)\u001b[0m\u001b[0;34m\u001b[0m\u001b[0;34m\u001b[0m\u001b[0m\n\u001b[1;32m      5\u001b[0m \u001b[0mn4\u001b[0m \u001b[0;34m=\u001b[0m \u001b[0mfloat\u001b[0m\u001b[0;34m(\u001b[0m\u001b[0minput\u001b[0m\u001b[0;34m(\u001b[0m\u001b[0;34m'4º Número: '\u001b[0m\u001b[0;34m)\u001b[0m\u001b[0;34m)\u001b[0m\u001b[0;34m\u001b[0m\u001b[0;34m\u001b[0m\u001b[0m\n",
            "\u001b[0;32m/usr/local/lib/python3.11/dist-packages/ipykernel/kernelbase.py\u001b[0m in \u001b[0;36mraw_input\u001b[0;34m(self, prompt)\u001b[0m\n\u001b[1;32m   1175\u001b[0m                 \u001b[0;34m\"raw_input was called, but this frontend does not support input requests.\"\u001b[0m\u001b[0;34m\u001b[0m\u001b[0;34m\u001b[0m\u001b[0m\n\u001b[1;32m   1176\u001b[0m             )\n\u001b[0;32m-> 1177\u001b[0;31m         return self._input_request(\n\u001b[0m\u001b[1;32m   1178\u001b[0m             \u001b[0mstr\u001b[0m\u001b[0;34m(\u001b[0m\u001b[0mprompt\u001b[0m\u001b[0;34m)\u001b[0m\u001b[0;34m,\u001b[0m\u001b[0;34m\u001b[0m\u001b[0;34m\u001b[0m\u001b[0m\n\u001b[1;32m   1179\u001b[0m             \u001b[0mself\u001b[0m\u001b[0;34m.\u001b[0m\u001b[0m_parent_ident\u001b[0m\u001b[0;34m[\u001b[0m\u001b[0;34m\"shell\"\u001b[0m\u001b[0;34m]\u001b[0m\u001b[0;34m,\u001b[0m\u001b[0;34m\u001b[0m\u001b[0;34m\u001b[0m\u001b[0m\n",
            "\u001b[0;32m/usr/local/lib/python3.11/dist-packages/ipykernel/kernelbase.py\u001b[0m in \u001b[0;36m_input_request\u001b[0;34m(self, prompt, ident, parent, password)\u001b[0m\n\u001b[1;32m   1217\u001b[0m             \u001b[0;32mexcept\u001b[0m \u001b[0mKeyboardInterrupt\u001b[0m\u001b[0;34m:\u001b[0m\u001b[0;34m\u001b[0m\u001b[0;34m\u001b[0m\u001b[0m\n\u001b[1;32m   1218\u001b[0m                 \u001b[0;31m# re-raise KeyboardInterrupt, to truncate traceback\u001b[0m\u001b[0;34m\u001b[0m\u001b[0;34m\u001b[0m\u001b[0m\n\u001b[0;32m-> 1219\u001b[0;31m                 \u001b[0;32mraise\u001b[0m \u001b[0mKeyboardInterrupt\u001b[0m\u001b[0;34m(\u001b[0m\u001b[0;34m\"Interrupted by user\"\u001b[0m\u001b[0;34m)\u001b[0m \u001b[0;32mfrom\u001b[0m \u001b[0;32mNone\u001b[0m\u001b[0;34m\u001b[0m\u001b[0;34m\u001b[0m\u001b[0m\n\u001b[0m\u001b[1;32m   1220\u001b[0m             \u001b[0;32mexcept\u001b[0m \u001b[0mException\u001b[0m\u001b[0;34m:\u001b[0m\u001b[0;34m\u001b[0m\u001b[0;34m\u001b[0m\u001b[0m\n\u001b[1;32m   1221\u001b[0m                 \u001b[0mself\u001b[0m\u001b[0;34m.\u001b[0m\u001b[0mlog\u001b[0m\u001b[0;34m.\u001b[0m\u001b[0mwarning\u001b[0m\u001b[0;34m(\u001b[0m\u001b[0;34m\"Invalid Message:\"\u001b[0m\u001b[0;34m,\u001b[0m \u001b[0mexc_info\u001b[0m\u001b[0;34m=\u001b[0m\u001b[0;32mTrue\u001b[0m\u001b[0;34m)\u001b[0m\u001b[0;34m\u001b[0m\u001b[0;34m\u001b[0m\u001b[0m\n",
            "\u001b[0;31mKeyboardInterrupt\u001b[0m: Interrupted by user"
          ]
        }
      ]
    },
    {
      "cell_type": "code",
      "source": [
        "N = int(input('Escreva um valor inteiro entre 5 e 2000: '))\n",
        "if N < 5 or N > 2000:\n",
        "    print('Número inválido')\n",
        "else:\n",
        "  for i in range(2, N+1, 2):\n",
        "    print(f'{i}^2 = {i**2}')\n"
      ],
      "metadata": {
        "id": "yBwH5Xhmjo5t"
      },
      "execution_count": null,
      "outputs": []
    },
    {
      "cell_type": "code",
      "source": [
        "N = int(input('Digite um número e verifique sua tabuada: '))\n",
        "if N < 2 or N > 1000:\n",
        "    print('Insira um número entre 2 e 1000.')\n",
        "else:\n",
        "    for i in range(0, 11):\n",
        "        print(f'{i} x {N} = {i*N}')"
      ],
      "metadata": {
        "colab": {
          "base_uri": "https://localhost:8080/"
        },
        "id": "C5aIKaP1lumH",
        "outputId": "60c62e22-94f7-402e-c5d1-0cdd54c3588f"
      },
      "execution_count": null,
      "outputs": [
        {
          "output_type": "stream",
          "name": "stdout",
          "text": [
            "Digite um número e verifique sua tabuada: 8\n",
            "0 x 8 = 0\n",
            "1 x 8 = 8\n",
            "2 x 8 = 16\n",
            "3 x 8 = 24\n",
            "4 x 8 = 32\n",
            "5 x 8 = 40\n",
            "6 x 8 = 48\n",
            "7 x 8 = 56\n",
            "8 x 8 = 64\n",
            "9 x 8 = 72\n",
            "10 x 8 = 80\n"
          ]
        }
      ]
    },
    {
      "cell_type": "code",
      "source": [
        "par = []\n",
        "ímpar = []\n",
        "pos = []\n",
        "neg = []\n",
        "N = float(input())\n",
        "if N % 2 == 0:\n",
        "    par.insert(0, N)\n",
        "elif N % 2 == 1:\n",
        "    ímpar.insert(0, N)\n",
        "elif N > 0:\n",
        "    pos.insert(0, N)\n",
        "elif N < 0:\n",
        "    neg.insert(0, N)\n",
        "print(f'{len(par)} valor(es) par(es)')\n",
        "print(f'{len(ímpar)} valor(es) impar(es)')\n",
        "print(f'{len(pos)} valor(es) positivo(s)')\n",
        "print(f'{len(neg)} valor(es) negativo(s)')"
      ],
      "metadata": {
        "id": "9_dSpefu-YzR",
        "colab": {
          "base_uri": "https://localhost:8080/",
          "height": 356
        },
        "outputId": "b7cd9145-e749-4002-afcf-e1029ce70f63"
      },
      "execution_count": null,
      "outputs": [
        {
          "output_type": "error",
          "ename": "KeyboardInterrupt",
          "evalue": "Interrupted by user",
          "traceback": [
            "\u001b[0;31m---------------------------------------------------------------------------\u001b[0m",
            "\u001b[0;31mKeyboardInterrupt\u001b[0m                         Traceback (most recent call last)",
            "\u001b[0;32m<ipython-input-1-7b1539c89064>\u001b[0m in \u001b[0;36m<cell line: 0>\u001b[0;34m()\u001b[0m\n\u001b[1;32m      3\u001b[0m \u001b[0mpos\u001b[0m \u001b[0;34m=\u001b[0m \u001b[0;34m[\u001b[0m\u001b[0;34m]\u001b[0m\u001b[0;34m\u001b[0m\u001b[0;34m\u001b[0m\u001b[0m\n\u001b[1;32m      4\u001b[0m \u001b[0mneg\u001b[0m \u001b[0;34m=\u001b[0m \u001b[0;34m[\u001b[0m\u001b[0;34m]\u001b[0m\u001b[0;34m\u001b[0m\u001b[0;34m\u001b[0m\u001b[0m\n\u001b[0;32m----> 5\u001b[0;31m \u001b[0mN\u001b[0m \u001b[0;34m=\u001b[0m \u001b[0mfloat\u001b[0m\u001b[0;34m(\u001b[0m\u001b[0minput\u001b[0m\u001b[0;34m(\u001b[0m\u001b[0;34m)\u001b[0m\u001b[0;34m)\u001b[0m\u001b[0;34m\u001b[0m\u001b[0;34m\u001b[0m\u001b[0m\n\u001b[0m\u001b[1;32m      6\u001b[0m \u001b[0;32mif\u001b[0m \u001b[0mN\u001b[0m \u001b[0;34m%\u001b[0m \u001b[0;36m2\u001b[0m \u001b[0;34m==\u001b[0m \u001b[0;36m0\u001b[0m\u001b[0;34m:\u001b[0m\u001b[0;34m\u001b[0m\u001b[0;34m\u001b[0m\u001b[0m\n\u001b[1;32m      7\u001b[0m     \u001b[0mpar\u001b[0m\u001b[0;34m.\u001b[0m\u001b[0minsert\u001b[0m\u001b[0;34m(\u001b[0m\u001b[0;36m0\u001b[0m\u001b[0;34m,\u001b[0m \u001b[0mN\u001b[0m\u001b[0;34m)\u001b[0m\u001b[0;34m\u001b[0m\u001b[0;34m\u001b[0m\u001b[0m\n",
            "\u001b[0;32m/usr/local/lib/python3.11/dist-packages/ipykernel/kernelbase.py\u001b[0m in \u001b[0;36mraw_input\u001b[0;34m(self, prompt)\u001b[0m\n\u001b[1;32m   1175\u001b[0m                 \u001b[0;34m\"raw_input was called, but this frontend does not support input requests.\"\u001b[0m\u001b[0;34m\u001b[0m\u001b[0;34m\u001b[0m\u001b[0m\n\u001b[1;32m   1176\u001b[0m             )\n\u001b[0;32m-> 1177\u001b[0;31m         return self._input_request(\n\u001b[0m\u001b[1;32m   1178\u001b[0m             \u001b[0mstr\u001b[0m\u001b[0;34m(\u001b[0m\u001b[0mprompt\u001b[0m\u001b[0;34m)\u001b[0m\u001b[0;34m,\u001b[0m\u001b[0;34m\u001b[0m\u001b[0;34m\u001b[0m\u001b[0m\n\u001b[1;32m   1179\u001b[0m             \u001b[0mself\u001b[0m\u001b[0;34m.\u001b[0m\u001b[0m_parent_ident\u001b[0m\u001b[0;34m[\u001b[0m\u001b[0;34m\"shell\"\u001b[0m\u001b[0;34m]\u001b[0m\u001b[0;34m,\u001b[0m\u001b[0;34m\u001b[0m\u001b[0;34m\u001b[0m\u001b[0m\n",
            "\u001b[0;32m/usr/local/lib/python3.11/dist-packages/ipykernel/kernelbase.py\u001b[0m in \u001b[0;36m_input_request\u001b[0;34m(self, prompt, ident, parent, password)\u001b[0m\n\u001b[1;32m   1217\u001b[0m             \u001b[0;32mexcept\u001b[0m \u001b[0mKeyboardInterrupt\u001b[0m\u001b[0;34m:\u001b[0m\u001b[0;34m\u001b[0m\u001b[0;34m\u001b[0m\u001b[0m\n\u001b[1;32m   1218\u001b[0m                 \u001b[0;31m# re-raise KeyboardInterrupt, to truncate traceback\u001b[0m\u001b[0;34m\u001b[0m\u001b[0;34m\u001b[0m\u001b[0m\n\u001b[0;32m-> 1219\u001b[0;31m                 \u001b[0;32mraise\u001b[0m \u001b[0mKeyboardInterrupt\u001b[0m\u001b[0;34m(\u001b[0m\u001b[0;34m\"Interrupted by user\"\u001b[0m\u001b[0;34m)\u001b[0m \u001b[0;32mfrom\u001b[0m \u001b[0;32mNone\u001b[0m\u001b[0;34m\u001b[0m\u001b[0;34m\u001b[0m\u001b[0m\n\u001b[0m\u001b[1;32m   1220\u001b[0m             \u001b[0;32mexcept\u001b[0m \u001b[0mException\u001b[0m\u001b[0;34m:\u001b[0m\u001b[0;34m\u001b[0m\u001b[0;34m\u001b[0m\u001b[0m\n\u001b[1;32m   1221\u001b[0m                 \u001b[0mself\u001b[0m\u001b[0;34m.\u001b[0m\u001b[0mlog\u001b[0m\u001b[0;34m.\u001b[0m\u001b[0mwarning\u001b[0m\u001b[0;34m(\u001b[0m\u001b[0;34m\"Invalid Message:\"\u001b[0m\u001b[0;34m,\u001b[0m \u001b[0mexc_info\u001b[0m\u001b[0;34m=\u001b[0m\u001b[0;32mTrue\u001b[0m\u001b[0;34m)\u001b[0m\u001b[0;34m\u001b[0m\u001b[0;34m\u001b[0m\u001b[0m\n",
            "\u001b[0;31mKeyboardInterrupt\u001b[0m: Interrupted by user"
          ]
        }
      ]
    },
    {
      "cell_type": "code",
      "source": [
        "A = float(input())\n",
        "B = float(input())\n",
        "C = float(input())\n",
        "delta = (B**2)-(4*A*C)\n",
        "bhaskara2 = ((B*-1)-(delta**0.5))/2*A\n",
        "bhaskara1 = ((B*-1)+(delta**0.5))/2*A\n",
        "\n",
        "if A == 0 or delta < 0:\n",
        "    print('Impossivel calcular')\n",
        "else:\n",
        "    print(f'R1 = %.5f' %(bhaskara1))\n",
        "    print(f'R2 = %.5f' %(bhaskara2))"
      ],
      "metadata": {
        "colab": {
          "base_uri": "https://localhost:8080/"
        },
        "id": "76YyvMM8fcag",
        "outputId": "0e3fa46d-1da5-4499-9905-80b8c1d6c068"
      },
      "execution_count": null,
      "outputs": [
        {
          "output_type": "stream",
          "name": "stdout",
          "text": [
            "10.3\n",
            "203\n",
            "5\n",
            "R1 = -2.61633\n",
            "R2 = -2088.28367\n"
          ]
        }
      ]
    },
    {
      "cell_type": "code",
      "source": [
        "A = int(input())\n",
        "B = int(input())\n",
        "C = int(input())\n",
        "a = float(A)\n",
        "b = float(B)\n",
        "c = float(C)\n",
        "delta = (b**2)-(4*a*c)\n",
        "bhaskara2 = ((b*-1)-(delta**0.5))/2*a\n",
        "bhaskara1 = ((b*-1)+(delta**0.5))/2*a\n",
        "\n",
        "if a == 0 or delta < 0:\n",
        "    print('Impossivel calcular')\n",
        "else:\n",
        "    print(f'R1 = %.5f' %(bhaskara1))\n",
        "    print(f'R2 = %.5f' %(bhaskara2))"
      ],
      "metadata": {
        "id": "2K5Kljluhfc9"
      },
      "execution_count": null,
      "outputs": []
    },
    {
      "cell_type": "code",
      "source": [
        "days = int(input())\n",
        "anos = days // 365\n",
        "meses = (days % 365)//30\n",
        "dias = days % 365 % 30\n",
        "print(f'{anos} ano(s)')\n",
        "print(f'{meses} mes(es)')\n",
        "print(f'{dias} dia(s)')"
      ],
      "metadata": {
        "colab": {
          "base_uri": "https://localhost:8080/"
        },
        "id": "VCs-ngf8prNP",
        "outputId": "160ff3eb-2bbb-432a-8b3b-7e12d01471c9"
      },
      "execution_count": null,
      "outputs": [
        {
          "output_type": "stream",
          "name": "stdout",
          "text": [
            "400\n",
            "1 ano(s)\n",
            "1 mes(es)\n",
            "5 dia(s)\n"
          ]
        }
      ]
    },
    {
      "cell_type": "code",
      "source": [
        "# SPLIT EM INPUTS\n",
        "\n",
        "a,w,e = input().split(' ')\n",
        "print(a)\n",
        "print(w)\n",
        "print(e)\n",
        "lista = []\n",
        "lista = input().split(' ')"
      ],
      "metadata": {
        "colab": {
          "base_uri": "https://localhost:8080/"
        },
        "id": "8Ha-QPF1t-T-",
        "outputId": "019961de-1f16-4e34-c638-5112cb2ca1f5"
      },
      "execution_count": null,
      "outputs": [
        {
          "name": "stdout",
          "output_type": "stream",
          "text": [
            "5 5 5\n",
            "5\n",
            "5\n",
            "5\n",
            "4 8 9\n"
          ]
        }
      ]
    },
    {
      "cell_type": "code",
      "source": [
        "valores = []\n",
        "valores = input().split(' ')\n",
        "a1 = int(valores[0])\n",
        "a2 = int(valores[1])\n",
        "c1 = 4.00\n",
        "c2 = 4.50\n",
        "c3 = 5.00\n",
        "c4 = 2.00\n",
        "c5 = 1.50\n",
        "if a1 == 1:\n",
        "    print('Total: R$ %.2f' %(c1*a2))\n",
        "if a1 == 2:\n",
        "    print('Total: R$ %.2f' %(c2*a2))\n",
        "if a1 == 3:\n",
        "    print('Total: R$ %.2f' %(c3*a2))\n",
        "if a1 == 4:\n",
        "    print('Total: R$ %.2f' %(c4*a2))\n",
        "if a1 == 5:\n",
        "    print('Total: R$ %.2f' %(c5*a2))\n"
      ],
      "metadata": {
        "colab": {
          "base_uri": "https://localhost:8080/"
        },
        "id": "EDGnWfSS4DCE",
        "outputId": "81026c0f-4a0b-435f-febb-2309135f854a"
      },
      "execution_count": null,
      "outputs": [
        {
          "output_type": "stream",
          "name": "stdout",
          "text": [
            "4 3\n",
            "Total: R$ 6.00\n"
          ]
        }
      ]
    },
    {
      "cell_type": "code",
      "source": [
        "N = float(input())\n",
        "if N >= 0 and N <= 1000000.00:\n",
        "    print('NOTAS:')\n",
        "    print(f'{int(N // 100.00)} nota(s) de R$ 100.00')\n",
        "    N = N % 100.00\n",
        "    print(f'{int(N // 50.00)} nota(s) de R$ 50.00')\n",
        "    N = N % 50.00\n",
        "    print(f'{int(N // 20.00)} nota(s) de R$ 20.00')\n",
        "    N = N % 20.00\n",
        "    print(f'{int(N // 10.00)} nota(s) de R$ 10.00')\n",
        "    N = N % 10.00\n",
        "    print(f'{int(N // 5.00)} nota(s) de R$ 5.00')\n",
        "    N = N % 5.00\n",
        "    print(f'{int(N // 2.00)} nota(s) de R$ 2.00')\n",
        "    N = N % 2.00\n",
        "    print('MOEDAS:')\n",
        "    print(f'{int(N // 1.00)} moeda(s) de R$ 1.00')\n",
        "    N = N % 1.00\n",
        "    print(f'{int(N // 0.50)} moeda(s) de R$ 0.50')\n",
        "    N = N % 0.50\n",
        "    print(f'{int(N // 0.25)} moeda(s) de R$ 0.25')\n",
        "    N = N % 0.25\n",
        "    print(f'{int(N // 0.10)} moeda(s) de R$ 0.10')\n",
        "    N = N % 0.10\n",
        "    print(f'{int(N // 0.05)} moeda(s) de R$ 0.05')\n",
        "    N = N % 0.05\n",
        "    print(f'{int(N // 0.01)} moeda(s) de R$ 0.01')\n"
      ],
      "metadata": {
        "colab": {
          "base_uri": "https://localhost:8080/"
        },
        "id": "U52e8_6WWMKA",
        "outputId": "5f80797a-d5df-4811-bb24-ebfe08bfaf1b"
      },
      "execution_count": null,
      "outputs": [
        {
          "output_type": "stream",
          "name": "stdout",
          "text": [
            "91.01\n",
            "NOTAS:\n",
            "0 nota(s) de R$ 100.00\n",
            "1 nota(s) de R$ 50.00\n",
            "2 nota(s) de R$ 20.00\n",
            "0 nota(s) de R$ 10.00\n",
            "0 nota(s) de R$ 5.00\n",
            "0 nota(s) de R$ 2.00\n",
            "MOEDAS:\n",
            "1 moeda(s) de R$ 1.00\n",
            "0 moeda(s) de R$ 0.50\n",
            "0 moeda(s) de R$ 0.25\n",
            "0 moeda(s) de R$ 0.10\n",
            "0 moeda(s) de R$ 0.05\n",
            "1 moeda(s) de R$ 0.01\n"
          ]
        }
      ]
    },
    {
      "cell_type": "code",
      "source": [
        "# POSITIVO REPETE / NEGATIVO FAZ MÉDIA DOS POSITIVOS\n",
        "\n",
        "q = 0\n",
        "soma = 0\n",
        "\n",
        "while True:\n",
        "  x = int(input())\n",
        "  if x > 0:\n",
        "    soma = soma + x\n",
        "    q = q + 1\n",
        "  else:\n",
        "    break\n",
        "print(f'Media: {soma/q}')\n",
        "\n"
      ],
      "metadata": {
        "colab": {
          "base_uri": "https://localhost:8080/"
        },
        "id": "r-Y1fZ4iXH8u",
        "outputId": "c002fa0c-5ce1-48ac-edc1-09776c0e9ce6"
      },
      "execution_count": null,
      "outputs": [
        {
          "output_type": "stream",
          "name": "stdout",
          "text": [
            "5\n",
            "3\n",
            "4\n",
            "-9\n",
            "Media: 4.0\n"
          ]
        }
      ]
    },
    {
      "cell_type": "markdown",
      "source": [
        "       06 - D X A"
      ],
      "metadata": {
        "id": "n_zk3b4saA4v"
      }
    },
    {
      "cell_type": "code",
      "source": [
        "def position(first, last):\n",
        "  print(first + ' ' + last)\n",
        "\n",
        "position('Arthur', 'Morgan')"
      ],
      "metadata": {
        "colab": {
          "base_uri": "https://localhost:8080/"
        },
        "id": "mN_t7YPmj_Dz",
        "outputId": "1b658361-53fa-4f09-dead-173b82d91974"
      },
      "execution_count": null,
      "outputs": [
        {
          "output_type": "stream",
          "name": "stdout",
          "text": [
            "Arthur Morgan\n"
          ]
        }
      ]
    },
    {
      "cell_type": "code",
      "source": [
        "import math\n",
        "\n",
        "print(math.hypot(6, 8))\n",
        "print(math.sin(math.radians(30)))\n",
        "#math.cos()\n",
        "#math.tan()\n",
        "#math.trunc()\n",
        "math.factorial(5)"
      ],
      "metadata": {
        "id": "bHQkMKLMpPNL",
        "colab": {
          "base_uri": "https://localhost:8080/"
        },
        "outputId": "af7fc66f-f5d0-4a70-e153-9700a65f3424"
      },
      "execution_count": null,
      "outputs": [
        {
          "output_type": "stream",
          "name": "stdout",
          "text": [
            "10.0\n",
            "0.49999999999999994\n"
          ]
        },
        {
          "output_type": "execute_result",
          "data": {
            "text/plain": [
              "120"
            ]
          },
          "metadata": {},
          "execution_count": 7
        }
      ]
    },
    {
      "cell_type": "code",
      "source": [
        "a = input('Digite algo: ')\n",
        "print(f'\\nO tipo primitivo desse valor é: {type(a)}')\n",
        "print(f'Só tem espaços? {a.isspace()}')\n",
        "print(f'É um número? {a.isnumeric()}')\n",
        "print(f'É alfabético? {a.isalpha()}')\n",
        "print(f'É alfanúmerico? {a.isalnum()}')\n",
        "print(f'É maiúsculo? {a.isupper()}')\n",
        "print(f'É minúsculo? {a.islower()}')\n",
        "print(f'Está capitalizada? {a.istitle()}')"
      ],
      "metadata": {
        "id": "mNELRjFStk-C"
      },
      "execution_count": null,
      "outputs": []
    },
    {
      "cell_type": "code",
      "source": [
        "import random\n",
        "lista = [1, 2, 3]\n",
        "x = random.shuffle(lista)\n",
        "y = random.choice(lista)"
      ],
      "metadata": {
        "id": "Hr18lL3wt0xZ"
      },
      "execution_count": null,
      "outputs": []
    },
    {
      "cell_type": "code",
      "source": [
        "import pygame\n",
        "\n",
        "pygame.init()\n",
        "pygame.mixer.music.load('Olha Pro Céu.mp3')\n",
        "pygame.mixer.music.play(2)"
      ],
      "metadata": {
        "id": "6R9jZDCvuFf6"
      },
      "execution_count": null,
      "outputs": []
    }
  ],
  "metadata": {
    "colab": {
      "provenance": [],
      "authorship_tag": "ABX9TyNseJTlB/KYgO9c7HLdjJuc",
      "include_colab_link": true
    },
    "kernelspec": {
      "display_name": "Python 3",
      "name": "python3"
    },
    "language_info": {
      "name": "python"
    }
  },
  "nbformat": 4,
  "nbformat_minor": 0
}